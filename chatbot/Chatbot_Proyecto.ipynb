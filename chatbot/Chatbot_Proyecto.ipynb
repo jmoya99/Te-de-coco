{
  "nbformat": 4,
  "nbformat_minor": 0,
  "metadata": {
    "colab": {
      "name": "Chatbot Proyecto.ipynb",
      "provenance": [],
      "collapsed_sections": [],
      "toc_visible": true
    },
    "kernelspec": {
      "name": "python3",
      "display_name": "Python 3"
    }
  },
  "cells": [
    {
      "cell_type": "code",
      "metadata": {
        "id": "qtL9eZF9ZD8H"
      },
      "source": [
        ""
      ],
      "execution_count": null,
      "outputs": []
    },
    {
      "cell_type": "markdown",
      "metadata": {
        "id": "FO5tfqfxYy2L"
      },
      "source": [
        "# Chatbot\n"
      ]
    },
    {
      "cell_type": "code",
      "metadata": {
        "id": "Zu0tLy19R3ki",
        "outputId": "f4043803-d290-4b6b-dfbb-fd5926e086e2",
        "colab": {
          "base_uri": "https://localhost:8080/"
        }
      },
      "source": [
        "%%bash\n",
        "# Instalar librerias\n",
        "pip3 install flask\n",
        "pip3 install chatterbot\n",
        "pip3 install chatterbot==1.0.1"
      ],
      "execution_count": 1,
      "outputs": [
        {
          "output_type": "stream",
          "text": [
            "Requirement already satisfied: flask in /usr/local/lib/python3.6/dist-packages (1.1.2)\n",
            "Requirement already satisfied: Werkzeug>=0.15 in /usr/local/lib/python3.6/dist-packages (from flask) (1.0.1)\n",
            "Requirement already satisfied: itsdangerous>=0.24 in /usr/local/lib/python3.6/dist-packages (from flask) (1.1.0)\n",
            "Requirement already satisfied: click>=5.1 in /usr/local/lib/python3.6/dist-packages (from flask) (7.1.2)\n",
            "Requirement already satisfied: Jinja2>=2.10.1 in /usr/local/lib/python3.6/dist-packages (from flask) (2.11.2)\n",
            "Requirement already satisfied: MarkupSafe>=0.23 in /usr/local/lib/python3.6/dist-packages (from Jinja2>=2.10.1->flask) (1.1.1)\n",
            "Collecting chatterbot\n",
            "  Downloading https://files.pythonhosted.org/packages/7c/21/85c2b114bd9dfabdd46ba58fc4519acdaed45d8c70898d40079e37a45e67/ChatterBot-1.0.8-py2.py3-none-any.whl (63kB)\n",
            "Collecting mathparse<0.2,>=0.1\n",
            "  Downloading https://files.pythonhosted.org/packages/c3/e5/4910fb85950cb960fcf3f5aabe1c8e55f5c9201788a1c1302b570a7e1f84/mathparse-0.1.2-py3-none-any.whl\n",
            "Requirement already satisfied: pytz in /usr/local/lib/python3.6/dist-packages (from chatterbot) (2018.9)\n",
            "Requirement already satisfied: sqlalchemy<1.4,>=1.3 in /usr/local/lib/python3.6/dist-packages (from chatterbot) (1.3.20)\n",
            "Requirement already satisfied: python-dateutil<2.9,>=2.8 in /usr/local/lib/python3.6/dist-packages (from chatterbot) (2.8.1)\n",
            "Requirement already satisfied: six>=1.5 in /usr/local/lib/python3.6/dist-packages (from python-dateutil<2.9,>=2.8->chatterbot) (1.15.0)\n",
            "Installing collected packages: mathparse, chatterbot\n",
            "Successfully installed chatterbot-1.0.8 mathparse-0.1.2\n",
            "Collecting chatterbot==1.0.1\n",
            "  Downloading https://files.pythonhosted.org/packages/ba/5f/e5cfc987626932ecca88de8f1e618ef96e4bda02fded54fa2debe6ca5cd6/ChatterBot-1.0.1-py2.py3-none-any.whl (65kB)\n",
            "Requirement already satisfied: pymongo<4.0,>=3.3 in /usr/local/lib/python3.6/dist-packages (from chatterbot==1.0.1) (3.11.0)\n",
            "Requirement already satisfied: mathparse<0.2,>=0.1 in /usr/local/lib/python3.6/dist-packages (from chatterbot==1.0.1) (0.1.2)\n",
            "Collecting chatterbot-corpus<1.3,>=1.2\n",
            "  Downloading https://files.pythonhosted.org/packages/ed/19/f8b41daf36fe4b0f43e283a820362ffdb2c1128600ab4ee187e84262fa4d/chatterbot_corpus-1.2.0-py2.py3-none-any.whl (117kB)\n",
            "Collecting pint>=0.8.1\n",
            "  Downloading https://files.pythonhosted.org/packages/5f/0e/dd4fb17aed6bfbc168fd767cffb6ec20b634009b75fd8ea699ea244bff3c/Pint-0.16.1-py2.py3-none-any.whl (205kB)\n",
            "Requirement already satisfied: nltk<4.0,>=3.2 in /usr/local/lib/python3.6/dist-packages (from chatterbot==1.0.1) (3.2.5)\n",
            "Collecting sqlalchemy<1.3,>=1.2\n",
            "  Downloading https://files.pythonhosted.org/packages/f9/67/d07cf7ac7e6dd0bc55ba62816753f86d7c558107104ca915e730c9ec2512/SQLAlchemy-1.2.19.tar.gz (5.7MB)\n",
            "Collecting python-dateutil<2.8,>=2.7\n",
            "  Downloading https://files.pythonhosted.org/packages/74/68/d87d9b36af36f44254a8d512cbfc48369103a3b9e474be9bdfe536abfc45/python_dateutil-2.7.5-py2.py3-none-any.whl (225kB)\n",
            "Requirement already satisfied: PyYAML<4.0,>=3.12 in /usr/local/lib/python3.6/dist-packages (from chatterbot-corpus<1.3,>=1.2->chatterbot==1.0.1) (3.13)\n",
            "Requirement already satisfied: importlib-resources; python_version < \"3.7\" in /usr/local/lib/python3.6/dist-packages (from pint>=0.8.1->chatterbot==1.0.1) (3.3.0)\n",
            "Requirement already satisfied: packaging in /usr/local/lib/python3.6/dist-packages (from pint>=0.8.1->chatterbot==1.0.1) (20.4)\n",
            "Requirement already satisfied: importlib-metadata; python_version < \"3.8\" in /usr/local/lib/python3.6/dist-packages (from pint>=0.8.1->chatterbot==1.0.1) (2.0.0)\n",
            "Requirement already satisfied: six in /usr/local/lib/python3.6/dist-packages (from nltk<4.0,>=3.2->chatterbot==1.0.1) (1.15.0)\n",
            "Requirement already satisfied: zipp>=0.4; python_version < \"3.8\" in /usr/local/lib/python3.6/dist-packages (from importlib-resources; python_version < \"3.7\"->pint>=0.8.1->chatterbot==1.0.1) (3.4.0)\n",
            "Requirement already satisfied: pyparsing>=2.0.2 in /usr/local/lib/python3.6/dist-packages (from packaging->pint>=0.8.1->chatterbot==1.0.1) (2.4.7)\n",
            "Building wheels for collected packages: sqlalchemy\n",
            "  Building wheel for sqlalchemy (setup.py): started\n",
            "  Building wheel for sqlalchemy (setup.py): finished with status 'done'\n",
            "  Created wheel for sqlalchemy: filename=SQLAlchemy-1.2.19-cp36-cp36m-linux_x86_64.whl size=1151157 sha256=57b8967db67968ece98a874aea49210f59b6df376eaed4316808a40bbcf18d63\n",
            "  Stored in directory: /root/.cache/pip/wheels/2c/90/a7/3b40c6cc468abff357b38fd075429920bd0d313659d889cf8a\n",
            "Successfully built sqlalchemy\n",
            "Installing collected packages: chatterbot-corpus, pint, sqlalchemy, python-dateutil, chatterbot\n",
            "  Found existing installation: SQLAlchemy 1.3.20\n",
            "    Uninstalling SQLAlchemy-1.3.20:\n",
            "      Successfully uninstalled SQLAlchemy-1.3.20\n",
            "  Found existing installation: python-dateutil 2.8.1\n",
            "    Uninstalling python-dateutil-2.8.1:\n",
            "      Successfully uninstalled python-dateutil-2.8.1\n",
            "  Found existing installation: ChatterBot 1.0.8\n",
            "    Uninstalling ChatterBot-1.0.8:\n",
            "      Successfully uninstalled ChatterBot-1.0.8\n",
            "Successfully installed chatterbot-1.0.1 chatterbot-corpus-1.2.0 pint-0.16.1 python-dateutil-2.7.5 sqlalchemy-1.2.19\n"
          ],
          "name": "stdout"
        },
        {
          "output_type": "stream",
          "text": [
            "ERROR: fbprophet 0.7.1 has requirement python-dateutil>=2.8.0, but you'll have python-dateutil 2.7.5 which is incompatible.\n",
            "ERROR: albumentations 0.1.12 has requirement imgaug<0.2.7,>=0.2.5, but you'll have imgaug 0.2.9 which is incompatible.\n"
          ],
          "name": "stderr"
        }
      ]
    },
    {
      "cell_type": "code",
      "metadata": {
        "id": "bp-5Ce0ZSHz3"
      },
      "source": [
        "!mkdir bot"
      ],
      "execution_count": 2,
      "outputs": []
    },
    {
      "cell_type": "code",
      "metadata": {
        "id": "hqVuUw8SSKPX"
      },
      "source": [
        "%%bash\n",
        "# en la carpeta bot crear las carpetas templates y datos\n",
        "cd bot\n",
        "\n",
        "mkdir templates\n",
        "mkdir datos"
      ],
      "execution_count": 3,
      "outputs": []
    },
    {
      "cell_type": "code",
      "metadata": {
        "id": "PCa-c6s7XTOQ",
        "outputId": "b65f0909-7447-49bc-c7cc-35943a3be1e6",
        "colab": {
          "base_uri": "https://localhost:8080/"
        }
      },
      "source": [
        "# Crear el archivo sample.py en la carpeta bot\n",
        "\n",
        "%%writefile bot/sample.py\n",
        "from flask import Flask,render_template,request\n",
        "from chatterbot import ChatBot\n",
        "from chatterbot.trainers import ChatterBotCorpusTrainer \n",
        "from chatterbot.trainers import ListTrainer\n",
        "\n",
        "app= Flask(__name__) # nombre del modulo o el paquete\n",
        "spa_bot=ChatBot(\"Chatterbot\",storage_adapter=\"chatterbot.storage.SQLStorageAdapter\")\n",
        "trainer = ChatterBotCorpusTrainer(spa_bot)\n",
        "trainer.train('datos/datos.yml','chatterbot.corpus.spanish')\n",
        "\n",
        "@app.route('/')\n",
        "def index():\n",
        "    return render_template(\"index.html\")  #ENVIAR A HTML\n",
        "\n",
        "@app.route('/get')\n",
        "def get_bot_response():\n",
        "    userText=request.args.get(\"msg\")  #tomar datos de la entrada, escribimos js en el index.html\n",
        "    return str(spa_bot.get_response(userText))\n",
        "\n",
        "\n",
        "if __name__==\"__main__\":\n",
        "    app.run()"
      ],
      "execution_count": 4,
      "outputs": [
        {
          "output_type": "stream",
          "text": [
            "Writing bot/sample.py\n"
          ],
          "name": "stdout"
        }
      ]
    },
    {
      "cell_type": "code",
      "metadata": {
        "id": "r3b8w7-RSMAD",
        "outputId": "1ce2315f-7377-498a-d7f1-76c3831e618b",
        "colab": {
          "base_uri": "https://localhost:8080/"
        }
      },
      "source": [
        "# Crear HTML\n",
        "\n",
        "%%writefile bot/templates/index.html\n",
        "<!DOCTYPE html>\n",
        "<html>\n",
        "<head>\n",
        "<title> Chatbot proyecto </title>\n",
        "<script src=\"https://ajax.googleapis.com/ajax/libs/jquery/3.2.1/jquery.min.js\"></script>\n",
        "<style type=\"text/css\">\n",
        "body\n",
        "{\n",
        "font-family: Garamond;\n",
        "background-color: black;\n",
        "}\n",
        "h1\n",
        "{\n",
        "color: black;\n",
        "margin-bottom: 0;\n",
        "margin-top: 0;\n",
        "text-align: center;\n",
        "font-size: 40px;\n",
        "}\n",
        "h3\n",
        "{\n",
        "color: black;\n",
        "font-size: 20px;\n",
        "margin-top: 3px;\n",
        "text-align: center;\n",
        "}\n",
        "#chatbox\n",
        "{\n",
        "background-color: black;\n",
        "margin-left: auto;\n",
        "margin-right: auto;\n",
        "width: 40%;\n",
        "margin-top: 60px;\n",
        "}\n",
        "#userInput {\n",
        "margin-left: auto;\n",
        "margin-right: auto;\n",
        "width: 40%;\n",
        "margin-top: 60px;\n",
        "}\n",
        "#textInput {\n",
        "width: 86%;\n",
        "border: none;\n",
        "border-bottom: 3px solid #009688;\n",
        "font-family: monospace;\n",
        "font-size: 17px;\n",
        "}\n",
        "#buttonInput {\n",
        "padding: 2px;\n",
        "font-family: monospace;\n",
        "font-size: 17px;\n",
        "}\n",
        ".userText {\n",
        "color: white;\n",
        "font-family: monospace;\n",
        "font-size: 17px;\n",
        "text-align: right;\n",
        "line-height: 30px;\n",
        "}\n",
        ".userText span {\n",
        "background-color: #009688;\n",
        "padding: 10px;\n",
        "border-radius: 2px;\n",
        "}\n",
        ".botText {\n",
        "color: white; font-family: monospace; font-size: 17px; text-align: justify; line-height: 30px;\n",
        "}\n",
        ".botText span {\n",
        "background-color: #EF5350; padding: 10px; border-radius: 2px;\n",
        "}\n",
        "#tidbit { \n",
        "position:absolute; bottom:0; right:0; width: 300px; \n",
        "}\n",
        "</style>\n",
        "</head>\n",
        "<body>\n",
        "<hl>Chatbot proyecto</hl>\n",
        "<div>\n",
        "<div id=\"chatbox\">\n",
        "<p class=\"botText\"><span>Hola! Bienvenido al chatbot asistente del proyecto</span></p>\n",
        "</div>\n",
        "<div id= \"userInput\">\n",
        "<input id=\"textInput\" type=\"text\" name=\"msg\" autofocus placeholder=\"Ingrese la pregunta\">\n",
        "<input id=\"buttonInput\" type=\"submit\" value=\"Enviar\">\n",
        "</div>\n",
        "<script>\n",
        "function getBotResponse(){\n",
        "var rawText=$(\"#textInput\").val();\n",
        "var userHtml='<p class=\"userText\"><span>'+rawText+'</span></p>';\n",
        "$(\"#textInput\").val(\"\");\n",
        "$(\"#chatbox\").append(userHtml);\n",
        "document.getElementById('userInput').scrollIntoView({block:'start',behavior:'smooth'});\n",
        "$.get(\"/get\",{msg:rawText}).done(function(datos){\n",
        "var botHtml='<p class=\"botText\"><span>'+datos+'</span></p>';\n",
        "$(\"#chatbox\").append(botHtml);\n",
        "document.getElementById('userInput').scrollIntoView({block:'start',behaviour:'smooth'});\n",
        "                });\n",
        "            }\n",
        "            $(\"#textInput\").on('keypress',function(e) {\n",
        "    if(e.which == 13) {\n",
        "        getBotResponse();\n",
        "    }\n",
        "});\n",
        "\n",
        "            $(\"#buttonInput\").click(function(){\n",
        "                getBotResponse();\n",
        "            })\n",
        "        </script>\n",
        "    </div>   \n",
        "</body>   \n",
        "</html>\n"
      ],
      "execution_count": 5,
      "outputs": [
        {
          "output_type": "stream",
          "text": [
            "Writing bot/templates/index.html\n"
          ],
          "name": "stdout"
        }
      ]
    },
    {
      "cell_type": "code",
      "metadata": {
        "id": "18UPHAolX1pC",
        "outputId": "bf2e775d-9fe5-41a7-aa5e-45f1779870f8",
        "colab": {
          "base_uri": "https://localhost:8080/"
        }
      },
      "source": [
        "%%writefile bot/datos/datos.yml\n",
        "categories:\n",
        "- conversaciones\n",
        "conversations:\n",
        "- - ¿Cuáles son las reglas de diagramación que utilizas?\n",
        "  - Las reglas de diagramación son\n",
        "    <br>\n",
        "    1. Para realizar un proceso debes utilizar el símbolo de tarea del diagrama BPMN, el cual es un rectángulo con bordes redondeados, al interior de este debes especificar el actor, la acción que ejecuta y el objeto sobre el cual se realiza esta acción, en el símbolo de tarea debe ir de la siguiente forma actor acción objeto, como vemos están separados por coma (,) y en caso de tener nombres compuestos en alguna de los tres, deberás cambiar los espacios por guión bajo, por ejemplo si quisiéramos poner el proceso \"Gerente nacional contrata personal de recursos humanos\", en el diagrama estará como gerente_nacional contrata personal_de_recursos_humanos.\n",
        "    <br>\n",
        "    2. Para las \"acciones\" se consideran 2 categorías, CRUD y genéricas. Las acciones CRUD son registra, modifica, elimina y muestra, si deseas agregar una acción tal como registra, modifica o elimina, estarás en la obligación de también poner muestra sobre el mismo objeto, por ejemplo, si tienes que empleado registra cliente, también deberás tener que empleado muestra cliente, es decir, para colocar una acción CRUD debes disponer de la acción muestra, sin embargo si deseas tener únicamente la acción muestra sin registra, elimina o modifica, se considera válido. Las acciones genéricas son aquellas que no son CRUD, dependiendo del tipo de acción se le aplican normas específicas que se ven mas adelante.\n",
        "    <br>\n",
        "    3. Acciones CRUD Como se mencionó previamente las acciones CRUD son registra, elimina, modifica y muestra, si se desea usar al menos una se debe usar tambien muestra, las combinaciones entre los otros 3 son como decidas, si deseas elegir las 3, 2 de ellas, 1 o solamente dejar el muestra o en caso no desear ninguna acción CRUD, tambien puede no poner ninguna. Estas acciones tendrán persistencia en una base de datos, por lo tanto al usar al menos una acción CRUD debes utilizar el símbolo de almacén de datos especificando el objeto y sus atributos separados por espacios de la siguiente forma Nombre_objeto atributo1 atributo2 atributo3 ... atributoN, el atributo que inicie con \"#\" será la clave primaria del objeto, se aplica la misma norma para nombre compuestos, tomando el ejemplo anterior, tendrías un almacén como personal_de_recursos_humanos cedula nombre fecha_de_nacimiento fecha_de_contratacion, donde el objeto es personal de recursos humanos y sus atributos son cédula, nombre, fecha de nacimiento y fecha de contratación.\n",
        "    <br>\n",
        "    4. Acciones genéricas A diferencia de las CRUD, estas no tienen persistencia en la base de datos y no tiene ninguna norma de inclusión de otro proceso. Para especificar los atributos que son importantes para la acción, debes usar el símbolo de objeto de datos con el nombre del atributo en él y conectarlo por medio de una flecha con su correspondiente acción (símbolo de tarea).\n",
        "    <br>\n",
        "    5. Esta herramienta no es \"CASE SENSITIVE\" por lo tanto es indiferente si escribes en minúscula, mayúscula o mezclado, por lo tanto atributo y AtrIBUTO se considera como lo mismo y solo se tendrá en cuenta una vez.\n",
        "    <br>\n",
        "    6. Debes evitar el uso de tildes, la letra \"ñ\" y cualquier carácter especial.\n",
        "    <br>\n",
        "    7. Por defecto se crea un control de usuarios, por lo tanto no podrás tener el objeto usuario en el diagrama.\n",
        "    <br>\n",
        "    8. Cuando la aplicación ya este construida, a la hora de que registres algo, en el campo que es clave primaria no podrás incluir espacios.\n",
        "    <br>\n",
        "    9. Todos los campos creados en la base de datos tienen un tamaño máximo de 200 caracteres.\n",
        "- - ¿Como puedo usarte?\n",
        "  - Al seguir el siguiente instructivo obtendrás un prototipo de tu proyecto\n",
        "    <br>\n",
        "    1. Ingresa a lucidchart.com y crea el diagrama del cual deseas generar el proyecto.\n",
        "    <br>\n",
        "    2. Una vez termines el diagrama, exportalo como CSV y guárdalo en tu equipo.\n",
        "    <br>\n",
        "    3. Ingresa a la herramienta y da clic en \"agregar\" para añadir los archivos CSV de los cuales se generará tu proyecto.\n",
        "    <br>\n",
        "    4. Una vez seleccionados, da click en \"generar\" y espera a que la herramienta interprete la información.\n",
        "    <br>\n",
        "    5. Una vez terminado el proceso se mostrará un mensaje indicando la ubicación del proyecto.\n",
        "    <br>\n",
        "    6. Si deseas ejecutar el proyecto, ingresa a la carpeta donde se generó e ingresa el comando python3 manage.py runserver desde consola, este comando te dará una dirección IP a la cual puedes ingresar para ver tu prototipo en funcionamiento.\n",
        "    <br>    \n",
        "    Nota\n",
        "    Para la creación de usuarios ingresa con el usuario \"superusuario\" con contraseña \"12345\", aquí podrás gestionar usuarios para los diferentes roles. Una vez creado el usuario, cierra sesión e ingresa con el usuario y contraseña creados, con este usuario podrás realizar las acciones correspondientes que definiste en el diagrama.\n",
        "- - ¿Quiénes te crearon?\n",
        "  - Camilo Loaiza Fonnegra&nbsp;&nbsp;&nbsp;&nbsp;&nbsp;<br>\n",
        "    &nbsp;Juan Pablo Moya Alarcón&nbsp;&nbsp;&nbsp;&nbsp;<br>\n",
        "    &nbsp;Julián Ospina Murgueitio&nbsp;&nbsp;&nbsp;<br>\n",
        "    &nbsp;Juan Felipe Peña Tamayo&nbsp;&nbsp;&nbsp;&nbsp;<br>\n",
        "    &nbsp;Juan Felipe Usuga Villegas<br>\n",
        "- - ¿Que lenguaje de diagramacion utilizas?\n",
        "  - Mi lenguaje es una variación del BPMN.\n",
        "    <br>\n",
        "- - ¿Que es lo que haces?\n",
        "  - A partir de un diagrama hecho en lucidchart basado en una variación del BPMN y exportado como CSV, utilizando el lenguaje de programación Java, genero una aplicación web con el framework Django.\n",
        "    <br>\n",
        "- - ¿En que lenguaje de programación está definida la aplicación generada?\n",
        "  - El lenguaje de programación en el que está construida la aplicación generada es python.\n",
        "    <br>\n",
        "- - ¿En que lenguaje de programación se procesa e interpreta el diagrama?\n",
        "  - El lenguaje de programación en el que se procesa e interpreta el diagrama es java.\n",
        "    <br>"
      ],
      "execution_count": 6,
      "outputs": [
        {
          "output_type": "stream",
          "text": [
            "Writing bot/datos/datos.yml\n"
          ],
          "name": "stdout"
        }
      ]
    },
    {
      "cell_type": "code",
      "metadata": {
        "id": "9QgVFQbHSQYa",
        "outputId": "43deaeed-0c6c-4eff-f4a3-efb37240d305",
        "colab": {
          "base_uri": "https://localhost:8080/",
          "height": 34
        }
      },
      "source": [
        "# Consultamos la dirección URL del servidor colab\n",
        "from google.colab.output import eval_js\n",
        "print(eval_js(\"google.colab.kernel.proxyPort(5000)\"))"
      ],
      "execution_count": 7,
      "outputs": [
        {
          "output_type": "stream",
          "text": [
            "https://dfeyq5u9td-496ff2e9c6d22116-5000-colab.googleusercontent.com/\n"
          ],
          "name": "stdout"
        }
      ]
    },
    {
      "cell_type": "code",
      "metadata": {
        "id": "m079eeQjSllX"
      },
      "source": [
        "%%bash\n",
        "cd bot\n",
        "python3 sample.py"
      ],
      "execution_count": null,
      "outputs": []
    },
    {
      "cell_type": "code",
      "metadata": {
        "id": "W4tmouVAx2uy"
      },
      "source": [
        ""
      ],
      "execution_count": null,
      "outputs": []
    }
  ]
}